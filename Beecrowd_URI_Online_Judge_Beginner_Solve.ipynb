{
  "nbformat": 4,
  "nbformat_minor": 0,
  "metadata": {
    "colab": {
      "name": "Beecrowd_URI_Online_Judge_Beginner_Solve.ipynb",
      "provenance": [],
      "authorship_tag": "ABX9TyPLOUyGUn5RzSVT19tVpJel",
      "include_colab_link": true
    },
    "kernelspec": {
      "name": "python3",
      "display_name": "Python 3"
    },
    "language_info": {
      "name": "python"
    }
  },
  "cells": [
    {
      "cell_type": "markdown",
      "metadata": {
        "id": "view-in-github",
        "colab_type": "text"
      },
      "source": [
        "<a href=\"https://colab.research.google.com/github/Kazi-Rakib-Hasan-Jawwad/Python-Learning/blob/master/Beecrowd_URI_Online_Judge_Beginner_Solve.ipynb\" target=\"_parent\"><img src=\"https://colab.research.google.com/assets/colab-badge.svg\" alt=\"Open In Colab\"/></a>"
      ]
    },
    {
      "cell_type": "markdown",
      "source": [
        "**[Beecrowd](https://https://www.beecrowd.com.br/judge/en/login)**, formally known as **Uri Online Judge** is a fine coding practice platform. Here are some worked out solutions of the **Beginner Level** problems that I have solved. It is saved in this repository for pure educational purpose.\n",
        "\n"
      ],
      "metadata": {
        "id": "-Cf9eeuN0fIX"
      }
    },
    {
      "cell_type": "markdown",
      "source": [
        "**1000**\n",
        "\n",
        "Your first program in any programming language is usually \"Hello World!\". In this first problem all you have to do is print this message on the screen.\n",
        "\n",
        "Input: This problem has no input.\n",
        "\n",
        "Output: You must print the message Hello World!"
      ],
      "metadata": {
        "id": "hLUJ2-AG2o6W"
      }
    },
    {
      "cell_type": "code",
      "execution_count": null,
      "metadata": {
        "id": "wBwwOYN8sblJ"
      },
      "outputs": [],
      "source": [
        ""
      ]
    }
  ]
}